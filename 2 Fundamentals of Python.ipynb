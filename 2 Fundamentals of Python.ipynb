{
 "cells": [
  {
   "cell_type": "code",
   "execution_count": 1,
   "id": "372d2123-cacb-4ac4-9c18-6e44535a9348",
   "metadata": {},
   "outputs": [],
   "source": [
    "# Print multiple outputs in a cell\n",
    "from IPython.core.interactiveshell import InteractiveShell\n",
    "InteractiveShell.ast_node_interactivity = \"all\""
   ]
  },
  {
   "cell_type": "markdown",
   "id": "4d212440-b545-48e9-8d4e-9000acb4b34c",
   "metadata": {},
   "source": [
    "# Basic Data Types in Python"
   ]
  },
  {
   "cell_type": "code",
   "execution_count": 2,
   "id": "af06ab7e-9ba4-4033-abde-2393aef303ac",
   "metadata": {},
   "outputs": [
    {
     "data": {
      "text/plain": [
       "int"
      ]
     },
     "execution_count": 2,
     "metadata": {},
     "output_type": "execute_result"
    },
    {
     "data": {
      "text/plain": [
       "float"
      ]
     },
     "execution_count": 2,
     "metadata": {},
     "output_type": "execute_result"
    },
    {
     "data": {
      "text/plain": [
       "float"
      ]
     },
     "execution_count": 2,
     "metadata": {},
     "output_type": "execute_result"
    },
    {
     "data": {
      "text/plain": [
       "bool"
      ]
     },
     "execution_count": 2,
     "metadata": {},
     "output_type": "execute_result"
    },
    {
     "data": {
      "text/plain": [
       "bool"
      ]
     },
     "execution_count": 2,
     "metadata": {},
     "output_type": "execute_result"
    },
    {
     "data": {
      "text/plain": [
       "str"
      ]
     },
     "execution_count": 2,
     "metadata": {},
     "output_type": "execute_result"
    },
    {
     "data": {
      "text/plain": [
       "NoneType"
      ]
     },
     "execution_count": 2,
     "metadata": {},
     "output_type": "execute_result"
    }
   ],
   "source": [
    "# An integer (int)\n",
    "type(13)       \n",
    "\n",
    "# Floats, floating point numbers\n",
    "type(4.1)       \n",
    "type(1.0)\n",
    "\n",
    "# Booleans, specialized forms of int\n",
    "type(True)\n",
    "type(False)\n",
    "\n",
    "# A string is characters surrounded by quotation marks. \n",
    "type(\"Hello\")\n",
    "\n",
    "# NoneType represents something that has no value\n",
    "type(None)"
   ]
  },
  {
   "cell_type": "markdown",
   "id": "2dc0ddff-4df5-453c-8ea6-c2e0165c5e1f",
   "metadata": {},
   "source": [
    "# High-Level Versus Low-Level Languages"
   ]
  },
  {
   "cell_type": "markdown",
   "id": "b969c187-bcdf-4050-b73c-7c678b0ba748",
   "metadata": {},
   "source": [
    "**Low-level languages** \n",
    "- languages closer to the computer's instructions\n",
    "- writing code with them is tedious and time consumiing\n",
    "- e.g., machine code, assembly language\n",
    "\n",
    "**High-level languages** \n",
    "- generally easier to understand and write than low-level languages\n",
    "- e.g., C, Python"
   ]
  },
  {
   "cell_type": "markdown",
   "id": "864baf15-fdcc-4bc9-a2be-64cefde130b7",
   "metadata": {},
   "source": [
    "# Statements\n",
    "* A Python statement is a single line of code with the end of the line signifying the end of the statement. "
   ]
  },
  {
   "cell_type": "code",
   "execution_count": 3,
   "id": "f06b871d-5d6f-4574-bbd8-d6fa3ab9a9ba",
   "metadata": {},
   "outputs": [
    {
     "name": "stdout",
     "output_type": "stream",
     "text": [
      "hello\n"
     ]
    }
   ],
   "source": [
    "# A simple statement\n",
    "print(\"hello\")\n",
    "\n",
    "# Complex statements\n",
    "x,y = 5,6\n",
    "bar = x**2 if (x < y) and (y or z) else x//2"
   ]
  },
  {
   "cell_type": "markdown",
   "id": "2cef0955-aa6e-4553-8f6e-26847a2efe5e",
   "metadata": {},
   "source": [
    "### Multiple Statements \n",
    "* Multiple statements : The results of one statement can be used by the statements the follow, building functionality by combining actions. "
   ]
  },
  {
   "cell_type": "code",
   "execution_count": 4,
   "id": "c12eae3d-57e7-42d8-8213-17758990c940",
   "metadata": {},
   "outputs": [
    {
     "name": "stdout",
     "output_type": "stream",
     "text": [
      "x is 7, y is 49\n"
     ]
    }
   ],
   "source": [
    "# Multiple statements\n",
    "x = 23//3                          # statement 1\n",
    "y = x**2                           # use the value of x in statement 1\n",
    "print(f\"x is {x}, y is {y}\")       # use the values of x and y in the previous statements"
   ]
  },
  {
   "cell_type": "markdown",
   "id": "59a7f50c-97b4-4e5b-ad4f-148782c6c16d",
   "metadata": {},
   "source": [
    "### Expression Statements\n",
    "* An expression : a piece of code that evaluates to a value (or to `None`) but does not capture its output for further use. "
   ]
  },
  {
   "cell_type": "code",
   "execution_count": 5,
   "id": "8ad82fb4-6a26-40fe-8e84-8e25db7edb3c",
   "metadata": {},
   "outputs": [
    {
     "data": {
      "text/plain": [
       "966"
      ]
     },
     "execution_count": 5,
     "metadata": {},
     "output_type": "execute_result"
    },
    {
     "data": {
      "text/plain": [
       "'Hello'"
      ]
     },
     "execution_count": 5,
     "metadata": {},
     "output_type": "execute_result"
    },
    {
     "data": {
      "text/plain": [
       "'C:\\\\Users\\\\alcan\\\\Desktop\\\\Foundational Python'"
      ]
     },
     "execution_count": 5,
     "metadata": {},
     "output_type": "execute_result"
    }
   ],
   "source": [
    "# Some simple expression statements\n",
    "23 * 42\n",
    "\"Hello\"\n",
    "\n",
    "import os \n",
    "os.getcwd()"
   ]
  },
  {
   "cell_type": "markdown",
   "id": "9c352fc1-eea9-4b5f-96f3-d9a68ea70d2d",
   "metadata": {},
   "source": [
    "### Assert Statements\n",
    "* Takes an expression as an argument and ensures that the result evaluates to `True`\n",
    "* Throws an error if the expression evaluates to `False`\n",
    "* Useful in debugging to ensure that some condition you assume to be true is indeed the case"
   ]
  },
  {
   "cell_type": "code",
   "execution_count": 6,
   "id": "8176bc37-59ea-4d17-8474-9b680bf48cc4",
   "metadata": {},
   "outputs": [],
   "source": [
    "assert(True)\n",
    "\n",
    "# This thows an error\n",
    "# assert(False)"
   ]
  },
  {
   "cell_type": "markdown",
   "id": "ec188b4a-201f-4cfb-94c7-293231f41bdb",
   "metadata": {},
   "source": [
    "### Assignment Statements\n",
    "* A variable - a name that points to some piece of data."
   ]
  },
  {
   "cell_type": "code",
   "execution_count": 7,
   "id": "3b8aed60-f0b4-4140-87c2-63b7c31b2af9",
   "metadata": {},
   "outputs": [
    {
     "name": "stdout",
     "output_type": "stream",
     "text": [
      "Hello Jeff, the answer is 9\n"
     ]
    }
   ],
   "source": [
    "# Assign the value 12 to the variable x\n",
    "# Assign the text 'Hello' to the variable y\n",
    "x = 12\n",
    "y = 'Hello'\n",
    "\n",
    "# Perform math by using the variable x\n",
    "# Construct a larger piece of text using the variable y\n",
    "answer = x - 3\n",
    "print(f\"{y} Jeff, the answer is {answer}\")"
   ]
  },
  {
   "cell_type": "code",
   "execution_count": 8,
   "id": "b2c9c9ec-c6b6-4948-b8ce-fd6d67710ab1",
   "metadata": {},
   "outputs": [],
   "source": [
    "# Assign multiple values to multiple variables in a single statement\n",
    "x, y, z = 1, 'a', 3.0"
   ]
  },
  {
   "cell_type": "markdown",
   "id": "3794db2e-5472-4976-8fe3-66bbe57c5b78",
   "metadata": {},
   "source": [
    "### Pass Statements\n",
    "* Placeholders, performing no action themeselves\n",
    "* Consist of the keyword `pass` and nothing else\n",
    "* Generally usef for stubbing out functions and classes when laying out code design (that is, putting in the names without functionality) "
   ]
  },
  {
   "cell_type": "markdown",
   "id": "bc5a5d2f-e612-4736-91c0-23f0046ea082",
   "metadata": {},
   "source": [
    "### Delete Statements\n",
    "* Delete something from the running program\n",
    "* Consist of the `del` keyword followed by the item to be deleted, in parentheses\n",
    "* Once the item is deleted, it cannot be referenced again unless it is redefined."
   ]
  },
  {
   "cell_type": "code",
   "execution_count": 9,
   "id": "feb56dd5-a979-4966-94e1-152ffb9848cc",
   "metadata": {},
   "outputs": [],
   "source": [
    "# A value being assigned to a variable then deleted\n",
    "polly = 'parrot'\n",
    "del(polly)\n",
    "\n",
    "# This throws an error\n",
    "# print(polly)"
   ]
  },
  {
   "cell_type": "markdown",
   "id": "8f19a390-fe86-4c15-8069-0c1a4307198a",
   "metadata": {},
   "source": [
    "### Return statements\n",
    "* Define the return value of a function"
   ]
  },
  {
   "cell_type": "markdown",
   "id": "3c250bc3-e295-4f2d-aff3-8a566bbdce1a",
   "metadata": {},
   "source": [
    "### Yield Statements\n",
    "* Used in writing generator functions, which provide a powerful way to optimize for performance and memory usage. "
   ]
  },
  {
   "cell_type": "markdown",
   "id": "8689f583-3ff1-4404-923f-7e59697ccfae",
   "metadata": {},
   "source": [
    "### Raise Statements\n",
    "* Syntax errors : prevent a program from running at all\n",
    "* Exceptions : errors that occur during the running of a program\n",
    "* Consist of the `raise` keyword followed by the exception"
   ]
  },
  {
   "cell_type": "markdown",
   "id": "9bfecfc3-4669-448f-b2ab-0f6c3e97e808",
   "metadata": {},
   "source": [
    "### Break Statements\n",
    "* Used to end a loop before its normal looping condition is met"
   ]
  },
  {
   "cell_type": "markdown",
   "id": "d7b97b15-7c69-49aa-b740-847d2b211703",
   "metadata": {},
   "source": [
    "### Continue Statements\n",
    "* Used to skip a single iteration of a loop"
   ]
  },
  {
   "cell_type": "markdown",
   "id": "81bcf98b-5eb7-45ec-aab8-5006636bf9dd",
   "metadata": {},
   "source": [
    "### Import Statements\n",
    "* Python code can be saved in files (with the .py extension); if these files are designed for reuse, they are referred to as *modules*.\n",
    "* Python Standard Library : a series of modules that you can bring into your Python session to extend functionality\n",
    "* Consist of the keyword `import` and the name of the module to import\n",
    "* When modules or groups of modules are prepared for wider distribution, they are referred to as *packages*.\n",
    "* To use a package, you must install it first, generally by using `pip`, the standard package manager for Python. "
   ]
  },
  {
   "cell_type": "code",
   "execution_count": 10,
   "id": "664ae42c-35cf-4284-a5be-a6ab1580e105",
   "metadata": {},
   "outputs": [
    {
     "data": {
      "text/plain": [
       "['.ipynb_checkpoints',\n",
       " '2 Fundamentals of Python.ipynb',\n",
       " 'Foundational Python for Data Science.pdf']"
      ]
     },
     "execution_count": 10,
     "metadata": {},
     "output_type": "execute_result"
    }
   ],
   "source": [
    "# Import the os module\n",
    "import os \n",
    "\n",
    "# List the contents of the current directory\n",
    "os.listdir()"
   ]
  },
  {
   "cell_type": "code",
   "execution_count": 11,
   "id": "3b1f2ed5-423f-44ff-90bc-d8557e1aa888",
   "metadata": {},
   "outputs": [
    {
     "data": {
      "text/plain": [
       "3.141592653589793"
      ]
     },
     "execution_count": 11,
     "metadata": {},
     "output_type": "execute_result"
    }
   ],
   "source": [
    "# Install the pandas library\n",
    "# !pip install pandas\n",
    "\n",
    "# Import the pandas library\n",
    "import pandas\n",
    "\n",
    "# Give a module an alias during import \n",
    "import pandas as pd\n",
    "\n",
    "# Reference the module by using the alias\n",
    "# rather than the module name\n",
    "# e.g., pd.read_excel('/some_excel_file.xls')\n",
    "\n",
    "# Import spefic parts of a module \n",
    "# by using the from keyword with import\n",
    "from math import pi\n",
    "pi"
   ]
  },
  {
   "cell_type": "markdown",
   "id": "3851aaa6-4f68-43ef-8e2c-0e5082645e20",
   "metadata": {},
   "source": [
    "### Future Statements\n",
    "* Allow you to use certain modules that are part of a future release"
   ]
  },
  {
   "cell_type": "markdown",
   "id": "9caa1f42-e233-4f77-87ad-b1198012cdbb",
   "metadata": {},
   "source": [
    "### Global Statements\n",
    "* *Scope* in a program refers to the environment that shares definitions of names and values.\n",
    "* Share variables across a whole module"
   ]
  },
  {
   "cell_type": "markdown",
   "id": "96297d5e-162e-435b-811f-936fb6180ede",
   "metadata": {},
   "source": [
    "### Nonlocal Statements\n",
    "* Enclose only the current scope"
   ]
  },
  {
   "cell_type": "markdown",
   "id": "85a7b2ba-2201-4d89-b813-4aa8aa020ac5",
   "metadata": {},
   "source": [
    "### Print Statements"
   ]
  },
  {
   "cell_type": "code",
   "execution_count": 12,
   "id": "8d96fb19-5108-4141-8a6a-9d3a710bdf45",
   "metadata": {},
   "outputs": [
    {
     "name": "stdout",
     "output_type": "stream",
     "text": [
      "1\n",
      "a\n",
      "1 b\n",
      "1->b\n"
     ]
    }
   ],
   "source": [
    "# Pass a single argument \n",
    "print(1)\n",
    "print('a')\n",
    "\n",
    "# Pass multiple arguments\n",
    "print(1, 'b')\n",
    "\n",
    "# Pass an (optional) argument \n",
    "# to define the separator bet. items\n",
    "print(1, 'b', sep = '->')"
   ]
  },
  {
   "cell_type": "markdown",
   "id": "9a62fe3c-9788-4b22-b1ac-b9a0f115dc12",
   "metadata": {},
   "source": [
    "# Performing Basic Math Operations"
   ]
  },
  {
   "cell_type": "code",
   "execution_count": 13,
   "id": "ae5ccad6-e965-4d74-ad13-a276f7d2a39c",
   "metadata": {},
   "outputs": [
    {
     "data": {
      "text/plain": [
       "5"
      ]
     },
     "execution_count": 13,
     "metadata": {},
     "output_type": "execute_result"
    },
    {
     "data": {
      "text/plain": [
       "-1"
      ]
     },
     "execution_count": 13,
     "metadata": {},
     "output_type": "execute_result"
    },
    {
     "data": {
      "text/plain": [
       "12"
      ]
     },
     "execution_count": 13,
     "metadata": {},
     "output_type": "execute_result"
    },
    {
     "data": {
      "text/plain": [
       "3.0"
      ]
     },
     "execution_count": 13,
     "metadata": {},
     "output_type": "execute_result"
    },
    {
     "data": {
      "text/plain": [
       "8"
      ]
     },
     "execution_count": 13,
     "metadata": {},
     "output_type": "execute_result"
    },
    {
     "data": {
      "text/plain": [
       "2"
      ]
     },
     "execution_count": 13,
     "metadata": {},
     "output_type": "execute_result"
    },
    {
     "data": {
      "text/plain": [
       "1"
      ]
     },
     "execution_count": 13,
     "metadata": {},
     "output_type": "execute_result"
    },
    {
     "data": {
      "text/plain": [
       "True"
      ]
     },
     "execution_count": 13,
     "metadata": {},
     "output_type": "execute_result"
    }
   ],
   "source": [
    "2 + 3        # Add 2 and 3\n",
    "5 - 6        # Subtract 6 from 5\n",
    "3 * 4        # Multiply 3 by 4\n",
    "9 / 3        # Divide 9 by 3, return a float\n",
    "2**3         # Raise 2 to the power of 3\n",
    "5//2         # Divide 5 by 2, return an integer\n",
    "5 % 2        # 5 modulo 2, return the remainder of a division\n",
    "14 % 7 == 0  # Is the remainder zero? "
   ]
  },
  {
   "cell_type": "markdown",
   "id": "a18ac0e8-d541-418c-bb12-9add5ae26c7b",
   "metadata": {},
   "source": [
    "# Using Classes and Objects with Dot Notation\n",
    "* To access an **attribute**, simply use a dot after the object's name, followed by the attribute name.\n",
    "* To access a **method** (that is, a function attached to an object), simply use a to after the object's name, followed by the attribute name with parentheses. "
   ]
  },
  {
   "cell_type": "code",
   "execution_count": 14,
   "id": "4c86203a-1d81-49c2-9bcb-4d371565d95d",
   "metadata": {},
   "outputs": [
    {
     "data": {
      "text/plain": [
       "2"
      ]
     },
     "execution_count": 14,
     "metadata": {},
     "output_type": "execute_result"
    },
    {
     "data": {
      "text/plain": [
       "b'\\x02\\x00\\x00\\x00\\x00\\x00\\x00\\x00'"
      ]
     },
     "execution_count": 14,
     "metadata": {},
     "output_type": "execute_result"
    }
   ],
   "source": [
    "# Access the numerator attribute of an integer\n",
    "a_number = 2\n",
    "a_number.numerator\n",
    "\n",
    "# Use the to_bytes() method of the same integer\n",
    "a_number.to_bytes(8, 'little')"
   ]
  }
 ],
 "metadata": {
  "kernelspec": {
   "display_name": "Python 3 (ipykernel)",
   "language": "python",
   "name": "python3"
  },
  "language_info": {
   "codemirror_mode": {
    "name": "ipython",
    "version": 3
   },
   "file_extension": ".py",
   "mimetype": "text/x-python",
   "name": "python",
   "nbconvert_exporter": "python",
   "pygments_lexer": "ipython3",
   "version": "3.11.7"
  }
 },
 "nbformat": 4,
 "nbformat_minor": 5
}
